{
  "nbformat": 4,
  "nbformat_minor": 0,
  "metadata": {
    "colab": {
      "provenance": []
    },
    "kernelspec": {
      "name": "python3",
      "display_name": "Python 3"
    },
    "language_info": {
      "name": "python"
    }
  },
  "cells": [
    {
      "cell_type": "code",
      "source": [
        "base1=10 #上底\n",
        "base2=20 #下底\n",
        "height=5 #高さ\n",
        "#台形の面積を求める。\n",
        "# 台形の面積を求める。\n",
        "area = (base1 + base2) * height / 2\n",
        "print(f\"台形の面積は{area}です。\")"
      ],
      "metadata": {
        "colab": {
          "base_uri": "https://localhost:8080/"
        },
        "id": "OtGNO3BXa6UU",
        "outputId": "052da664-c1c8-4113-8dba-0e8b5ac08f50"
      },
      "execution_count": 11,
      "outputs": [
        {
          "output_type": "stream",
          "name": "stdout",
          "text": [
            "台形の面積は75.0です。\n"
          ]
        }
      ]
    }
  ]
}