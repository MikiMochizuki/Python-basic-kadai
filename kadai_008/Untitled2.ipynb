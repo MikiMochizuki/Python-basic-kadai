{
  "nbformat": 4,
  "nbformat_minor": 0,
  "metadata": {
    "colab": {
      "provenance": []
    },
    "kernelspec": {
      "name": "python3",
      "display_name": "Python 3"
    },
    "language_info": {
      "name": "python"
    }
  },
  "cells": [
    {
      "cell_type": "code",
      "execution_count": 62,
      "metadata": {
        "colab": {
          "base_uri": "https://localhost:8080/"
        },
        "id": "jTLyqnvqXHDb",
        "outputId": "d1178975-92c1-43ff-d32a-3256a53db35c"
      },
      "outputs": [
        {
          "output_type": "stream",
          "name": "stdout",
          "text": [
            "15\n",
            "FizzBuzz\n"
          ]
        }
      ],
      "source": [
        "#ランダムな整数を利用するために、randomモジュールをインポート\n",
        "import random\n",
        "\n",
        "# 変数numに0～30までのランダムな整数を代入する\n",
        "ver = random.randint(0, 30)\n",
        "\n",
        "# 変数numの値を出力\n",
        "print(ver)\n",
        "\n",
        "# 変数varが、3の倍数の場合は「Fizz」を出力\n",
        "if  ver % 3 == 0 and ver % 5 == 0:\n",
        "    print(\"FizzBuzz\")\n",
        "#変数varが、5の倍数の場合は「Buzz」を出力\n",
        "elif ver % 5 == 0:\n",
        "    print(\"Buzz\")\n",
        "#変数varが、3の倍数と5の倍数の両方に該当する場合は「FizzBuzz」を出力\n",
        "elif ver % 3 == 0:\n",
        "    print(\"Fizz\")\n",
        "#上記のどの場合にも該当しない場合は、変数varの値を出力\n",
        "else:\n",
        "    print(ver)"
      ]
    }
  ]
}