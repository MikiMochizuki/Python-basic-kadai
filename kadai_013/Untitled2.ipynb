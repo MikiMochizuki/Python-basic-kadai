{
  "nbformat": 4,
  "nbformat_minor": 0,
  "metadata": {
    "colab": {
      "provenance": []
    },
    "kernelspec": {
      "name": "python3",
      "display_name": "Python 3"
    },
    "language_info": {
      "name": "python"
    }
  },
  "cells": [
    {
      "cell_type": "code",
      "source": [
        "def calculate_total_price(price, tax_rate=0.10):\n",
        "    \"\"\"\n",
        "    商品の金額と消費税率を受け取り、消費税を加えた合計金額を返す関数。\n",
        "    \"\"\"\n",
        "    total = price + (price * tax_rate)\n",
        "    print(f\"{total}円\")\n",
        "\n",
        "# 商品の金額\n",
        "price = 1000\n",
        "\n",
        "calculate_total_price(1000, tax_rate=0.10)"
      ],
      "metadata": {
        "colab": {
          "base_uri": "https://localhost:8080/"
        },
        "id": "V31OYnRDLRnw",
        "outputId": "dc11d85f-74d8-461b-8b0d-3556122fc256"
      },
      "execution_count": 10,
      "outputs": [
        {
          "output_type": "stream",
          "name": "stdout",
          "text": [
            "1100.0円\n"
          ]
        }
      ]
    }
  ]
}