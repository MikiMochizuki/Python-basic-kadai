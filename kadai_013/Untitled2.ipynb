{
  "nbformat": 4,
  "nbformat_minor": 0,
  "metadata": {
    "colab": {
      "provenance": []
    },
    "kernelspec": {
      "name": "python3",
      "display_name": "Python 3"
    },
    "language_info": {
      "name": "python"
    }
  },
  "cells": [
    {
      "cell_type": "code",
      "source": [
        "def calculate_total_price(price, tax_rate):\n",
        "    \"\"\"\n",
        "    商品の金額と消費税率を受け取り、消費税を加えた合計金額を返す関数。\n",
        "    \"\"\"\n",
        "    total = price + (price * tax_rate)\n",
        "    return(total)\n",
        "\n",
        "\n",
        "calculate_total_price(1000, 0.10)"
      ],
      "metadata": {
        "colab": {
          "base_uri": "https://localhost:8080/"
        },
        "id": "V31OYnRDLRnw",
        "outputId": "758d583a-3b18-4125-ed74-00537b24298a"
      },
      "execution_count": 12,
      "outputs": [
        {
          "output_type": "execute_result",
          "data": {
            "text/plain": [
              "1100.0"
            ]
          },
          "metadata": {},
          "execution_count": 12
        }
      ]
    },
    {
      "cell_type": "code",
      "source": [],
      "metadata": {
        "id": "W8yZw0XZfLSm"
      },
      "execution_count": null,
      "outputs": []
    }
  ]
}