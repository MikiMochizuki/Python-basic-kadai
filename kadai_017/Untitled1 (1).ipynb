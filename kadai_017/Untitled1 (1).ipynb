{
  "nbformat": 4,
  "nbformat_minor": 0,
  "metadata": {
    "colab": {
      "provenance": []
    },
    "kernelspec": {
      "name": "python3",
      "display_name": "Python 3"
    },
    "language_info": {
      "name": "python"
    }
  },
  "cells": [
    {
      "cell_type": "code",
      "source": [
        "class Human:\n",
        "    def __init__(self, name, age):\n",
        "        self.name = name\n",
        "        self.age = age\n",
        "\n",
        "    # メソッドを定義する\n",
        "    def check_adult(self):\n",
        "        if self.age >= 20:\n",
        "            print(f\"{self.name}は大人です\")\n",
        "        else:\n",
        "            print(f\"{self.name}は大人ではない\")\n",
        "\n",
        "# ユーザー名と年齢のリスト\n",
        "user_names = [\"侍太郎\", \"侍一郎\", \"侍二郎\", \"侍三郎\", \"侍四郎\"]\n",
        "user_ages = [36, 33, 29, 25, 22]\n",
        "\n",
        "# ユーザーごとにHumanオブジェクトを作成し、年齢をチェックする\n",
        "for name, age in zip(user_names, user_ages):\n",
        "    user = Human(name, age)\n",
        "    user.check_adult()"
      ],
      "metadata": {
        "colab": {
          "base_uri": "https://localhost:8080/"
        },
        "id": "Av9Lrbr1ExqG",
        "outputId": "6d3ce5b8-dfd8-4b25-f4c3-48d044504164"
      },
      "execution_count": 9,
      "outputs": [
        {
          "output_type": "stream",
          "name": "stdout",
          "text": [
            "侍太郎は大人です\n",
            "侍一郎は大人です\n",
            "侍二郎は大人です\n",
            "侍三郎は大人です\n",
            "侍四郎は大人です\n"
          ]
        }
      ]
    },
    {
      "cell_type": "markdown",
      "source": [],
      "metadata": {
        "id": "4qigcQKCE53y"
      }
    }
  ]
}