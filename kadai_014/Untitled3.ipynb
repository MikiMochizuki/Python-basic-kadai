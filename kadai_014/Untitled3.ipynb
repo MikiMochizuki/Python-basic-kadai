{
  "nbformat": 4,
  "nbformat_minor": 0,
  "metadata": {
    "colab": {
      "provenance": []
    },
    "kernelspec": {
      "name": "python3",
      "display_name": "Python 3"
    },
    "language_info": {
      "name": "python"
    }
  },
  "cells": [
    {
      "cell_type": "code",
      "execution_count": 14,
      "metadata": {
        "colab": {
          "base_uri": "https://localhost:8080/"
        },
        "id": "HABPiNmyVBOb",
        "outputId": "d1f7a12e-dd23-4bb2-d6e9-ca956e28c234"
      },
      "outputs": [
        {
          "output_type": "stream",
          "name": "stdout",
          "text": [
            "330.0\n"
          ]
        }
      ],
      "source": [
        "def total(price1,price2):\n",
        "    tax = 1.1\n",
        "    total_price = (price1 + price2) * tax\n",
        "    print (total_price)\n",
        "\n",
        "total(100,200)"
      ]
    }
  ]
}